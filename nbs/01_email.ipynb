{
 "cells": [
  {
   "cell_type": "code",
   "execution_count": null,
   "metadata": {},
   "outputs": [],
   "source": [
    "import pickle\n",
    "import os.path\n",
    "import pathlib\n",
    "\n",
    "from googleapiclient.discovery import build\n",
    "from google_auth_oauthlib.flow import InstalledAppFlow\n",
    "from google.auth.transport.requests import Request\n",
    "\n",
    "# If modifying these scopes, delete the file token.pickle.\n",
    "SCOPES = [\n",
    "            'https://www.googleapis.com/auth/gmail.send',\n",
    "            'https://www.googleapis.com/auth/gmail.readonly',\n",
    "         ]\n",
    "\n",
    "\n",
    "def Service():\n",
    "    \"\"\"Shows basic usage of the Gmail API.\n",
    "    Lists the user's Gmail labels.\n",
    "    \"\"\"\n",
    "    creds = None\n",
    "    # The file token.pickle stores the user's access and refresh tokens, and is\n",
    "    # created automatically when the authorization flow completes for the first\n",
    "    # time.\n",
    "    if os.path.exists('token.pickle'):\n",
    "        with open('token.pickle', 'rb') as token:\n",
    "            creds = pickle.load(token)\n",
    "    # If there are no (valid) credentials available, let the user log in.\n",
    "    if not creds or not creds.valid:\n",
    "        if creds and creds.expired and creds.refresh_token:\n",
    "            creds.refresh(Request())\n",
    "        else:\n",
    "            flow = InstalledAppFlow.from_client_secrets_file(\n",
    "                pathlib.Path('~/credentials/gmail_api_creds.json').expanduser(),\n",
    "                SCOPES)\n",
    "            creds = flow.run_local_server(port=0)\n",
    "        # Save the credentials for the next run\n",
    "        with open('token.pickle', 'wb') as token:\n",
    "            pickle.dump(creds, token)\n",
    "\n",
    "    service = build('gmail', 'v1', credentials=creds)\n",
    "    return service\n",
    "\n",
    "    # Call the Gmail API\n",
    "    results = service.users().labels().list(userId='me').execute()\n",
    "    labels = results.get('labels', [])\n",
    "\n",
    "    if not labels:\n",
    "        print('No labels found.')\n",
    "    else:\n",
    "        print('Labels:')\n",
    "        for label in labels:\n",
    "            print(label['name'])"
   ]
  },
  {
   "cell_type": "code",
   "execution_count": null,
   "metadata": {},
   "outputs": [],
   "source": [
    "# slow\n",
    "service = Service()"
   ]
  },
  {
   "cell_type": "code",
   "execution_count": null,
   "metadata": {},
   "outputs": [],
   "source": [
    "from email.mime.text import MIMEText\n",
    "import base64"
   ]
  },
  {
   "cell_type": "code",
   "execution_count": null,
   "metadata": {},
   "outputs": [],
   "source": [
    "def create_message(sender, to, cc, subject, message_text):\n",
    "    message = MIMEText(message_text)\n",
    "    message['to'] = to\n",
    "    message['from'] = sender\n",
    "    message['subject'] = subject\n",
    "    raw_message = base64.urlsafe_b64encode(message.as_string().encode(\"utf-8\"))\n",
    "    return {\n",
    "        'raw': raw_message.decode(\"utf-8\")\n",
    "    }\n",
    "\n",
    "\n",
    "def create_draft(service, user_id, message_body):\n",
    "    try:\n",
    "        message = {'message': message_body}\n",
    "        draft = service.users().drafts().create(userId=user_id, body=message).execute()\n",
    "\n",
    "        print(\"Draft id: %s\\nDraft message: %s\" % (draft['id'], draft['message']))\n",
    "\n",
    "        return draft\n",
    "    except Exception as e:\n",
    "        print('An error occurred: %s' % e)\n",
    "        return None  "
   ]
  },
  {
   "cell_type": "code",
   "execution_count": null,
   "metadata": {},
   "outputs": [],
   "source": [
    "import mimetypes\n",
    "from email.mime.base import MIMEBase\n",
    "from email.mime.application import MIMEApplication"
   ]
  },
  {
   "cell_type": "code",
   "execution_count": null,
   "metadata": {},
   "outputs": [],
   "source": [
    "from email.mime.multipart import MIMEMultipart\n",
    "\n",
    "def send_message(service, user_id, message):\n",
    "    try:\n",
    "        message = service.users().messages().send(userId=user_id, body=message).execute()\n",
    "\n",
    "        print('Message Id: %s' % message['id'])\n",
    "\n",
    "        return message\n",
    "    except Exception as e:\n",
    "        print('An error occurred: %s' % e)\n",
    "        return None\n",
    "\n",
    "\n",
    "def create_message_with_attachment(sender, to, subject, message_text, file):\n",
    "    message = MIMEMultipart()\n",
    "    message['to'] = to\n",
    "    message['from'] = sender\n",
    "    message['subject'] = subject\n",
    "\n",
    "    msg = MIMEText(message_text)\n",
    "    message.attach(msg)\n",
    "\n",
    "    content_type, encoding = mimetypes.guess_type(file)\n",
    "\n",
    "    if content_type is None or encoding is not None:\n",
    "        content_type = 'application/octet-stream'\n",
    "\n",
    "    main_type, sub_type = content_type.split('/', 1)\n",
    "    print(f\"main_type: {main_type}\")\n",
    "    print(f\"sub_type: {sub_type}\")\n",
    "\n",
    "    if main_type == 'text':\n",
    "        fp = open(file, 'rb')\n",
    "        msg = MIMEText(fp.read().decode(\"utf-8\"), _subtype=sub_type)\n",
    "        fp.close()\n",
    "\n",
    "    elif main_type == 'application' and sub_type == 'pdf':   \n",
    "        temp = open(file, 'rb')\n",
    "        msg = MIMEApplication(temp.read(), _subtype=sub_type)\n",
    "        temp.close()\n",
    "    elif main_type == 'image':\n",
    "        fp = open(file, 'rb')\n",
    "        msg = MIMEImage(fp.read(), _subtype=sub_type)\n",
    "        fp.close()\n",
    "    elif main_type == 'audio':\n",
    "        fp = open(file, 'rb')\n",
    "        msg = MIMEAudio(fp.read(), _subtype=sub_type)\n",
    "        fp.close()\n",
    "    else:\n",
    "        fp = open(file, 'rb')\n",
    "        msg = MIMEBase(main_type, sub_type)\n",
    "        msg.set_payload(fp.read())\n",
    "        fp.close()\n",
    "    filename = os.path.basename(file)\n",
    "    msg.add_header('Content-Disposition', 'attachment', filename=filename)\n",
    "    message.attach(msg)\n",
    "\n",
    "    ## Part 4 encode the message (the message should be in bytes)\n",
    "    message_as_bytes = message.as_bytes() # the message should converted from string to bytes.\n",
    "    message_as_base64 = base64.urlsafe_b64encode(message_as_bytes) #encode in base64 (printable letters coding)\n",
    "    raw = message_as_base64.decode()  # need to JSON serializable (no idea what does it means)\n",
    "    return {'raw': raw} "
   ]
  },
  {
   "cell_type": "code",
   "execution_count": null,
   "metadata": {},
   "outputs": [],
   "source": [
    "file=\"/home/david/Downloads/send_to_pb/[2010.05365] ArXiving Before Submission Helps Everyone.pdf\""
   ]
  },
  {
   "cell_type": "code",
   "execution_count": null,
   "metadata": {},
   "outputs": [
    {
     "name": "stdout",
     "output_type": "stream",
     "text": [
      "main_type: application\n",
      "sub_type: pdf\n"
     ]
    },
    {
     "data": {
      "text/plain": [
       "'Q29udGVudC1UeXBlOiBtdWx0aXBhcn'"
      ]
     },
     "execution_count": null,
     "metadata": {},
     "output_type": "execute_result"
    }
   ],
   "source": [
    "msg = create_message_with_attachment(sender='David',\n",
    "                              to='dzlob@pbsync.com',\n",
    "                              subject='SEND_TO_PB',\n",
    "                              message_text=\"# THIS MESSAGE WAS AUTOGENERATED BY SEND_TO_PB\",\n",
    "                              file=\"/home/david/Downloads/send_to_pb/[2010.05365] ArXiving Before Submission Helps Everyone.pdf\"\n",
    "                              )\n",
    "msg['raw'][:30]"
   ]
  },
  {
   "cell_type": "code",
   "execution_count": null,
   "metadata": {},
   "outputs": [
    {
     "name": "stdout",
     "output_type": "stream",
     "text": [
      "Message Id: 1752ce8d5ee0876f\n"
     ]
    },
    {
     "data": {
      "text/plain": [
       "{'id': '1752ce8d5ee0876f',\n",
       " 'threadId': '1752ce8d5ee0876f',\n",
       " 'labelIds': ['SENT']}"
      ]
     },
     "execution_count": null,
     "metadata": {},
     "output_type": "execute_result"
    }
   ],
   "source": [
    "send_message(service, 'david.dobrinskiy@gmail.com', message=msg)"
   ]
  },
  {
   "cell_type": "code",
   "execution_count": null,
   "metadata": {},
   "outputs": [],
   "source": []
  }
 ],
 "metadata": {
  "kernelspec": {
   "display_name": "venv_send_to_pb",
   "language": "python",
   "name": "venv_send_to_pb"
  }
 },
 "nbformat": 4,
 "nbformat_minor": 4
}
