{
 "cells": [
  {
   "cell_type": "code",
   "execution_count": 2,
   "metadata": {
    "execution": {
     "iopub.execute_input": "2020-10-15T14:54:46.093764Z",
     "iopub.status.busy": "2020-10-15T14:54:46.093290Z",
     "iopub.status.idle": "2020-10-15T14:54:46.309238Z",
     "shell.execute_reply": "2020-10-15T14:54:46.308534Z",
     "shell.execute_reply.started": "2020-10-15T14:54:46.093709Z"
    }
   },
   "outputs": [],
   "source": [
    "import pickle\n",
    "import os.path\n",
    "import pathlib\n",
    "\n",
    "from googleapiclient.discovery import build\n",
    "from google_auth_oauthlib.flow import InstalledAppFlow\n",
    "from google.auth.transport.requests import Request\n",
    "\n",
    "# If modifying these scopes, delete the file token.pickle.\n",
    "SCOPES = [\n",
    "            'https://www.googleapis.com/auth/gmail.send',\n",
    "            'https://www.googleapis.com/auth/gmail.readonly',\n",
    "         ]\n",
    "\n",
    "\n",
    "def main():\n",
    "    \"\"\"Shows basic usage of the Gmail API.\n",
    "    Lists the user's Gmail labels.\n",
    "    \"\"\"\n",
    "    creds = None\n",
    "    # The file token.pickle stores the user's access and refresh tokens, and is\n",
    "    # created automatically when the authorization flow completes for the first\n",
    "    # time.\n",
    "    if os.path.exists('token.pickle'):\n",
    "        with open('token.pickle', 'rb') as token:\n",
    "            creds = pickle.load(token)\n",
    "    # If there are no (valid) credentials available, let the user log in.\n",
    "    if not creds or not creds.valid:\n",
    "        if creds and creds.expired and creds.refresh_token:\n",
    "            creds.refresh(Request())\n",
    "        else:\n",
    "            flow = InstalledAppFlow.from_client_secrets_file(\n",
    "                pathlib.Path('~/credentials/gmail_api_creds.json').expanduser(),\n",
    "                SCOPES)\n",
    "            creds = flow.run_local_server(port=0)\n",
    "        # Save the credentials for the next run\n",
    "        with open('token.pickle', 'wb') as token:\n",
    "            pickle.dump(creds, token)\n",
    "\n",
    "    service = build('gmail', 'v1', credentials=creds)\n",
    "\n",
    "    # Call the Gmail API\n",
    "    results = service.users().labels().list(userId='me').execute()\n",
    "    labels = results.get('labels', [])\n",
    "\n",
    "    if not labels:\n",
    "        print('No labels found.')\n",
    "    else:\n",
    "        print('Labels:')\n",
    "        for label in labels:\n",
    "            print(label['name'])"
   ]
  },
  {
   "cell_type": "code",
   "execution_count": null,
   "metadata": {},
   "outputs": [],
   "source": [
    "main()"
   ]
  },
  {
   "cell_type": "code",
   "execution_count": null,
   "metadata": {},
   "outputs": [],
   "source": [
    "def create_message(sender, to, subject, message_text):\n",
    "    message = MIMEText(message_text)\n",
    "    message['to'] = to\n",
    "    message['from'] = sender\n",
    "    message['subject'] = subject\n",
    "    raw_message = base64.urlsafe_b64encode(message.as_string().encode(\"utf-8\"))\n",
    "    return {\n",
    "        'raw': raw_message.decode(\"utf-8\")\n",
    "    }\n",
    "\n",
    "\n",
    "def create_draft(service, user_id, message_body):\n",
    "    try:\n",
    "        message = {'message': message_body}\n",
    "        draft = service.users().drafts().create(userId=user_id, body=message).execute()\n",
    "\n",
    "        print(\"Draft id: %s\\nDraft message: %s\" % (draft['id'], draft['message']))\n",
    "\n",
    "        return draft\n",
    "    except Exception as e:\n",
    "        print('An error occurred: %s' % e)\n",
    "        return None  "
   ]
  },
  {
   "cell_type": "code",
   "execution_count": null,
   "metadata": {},
   "outputs": [],
   "source": []
  }
 ],
 "metadata": {
  "kernelspec": {
   "display_name": "venv_send_to_pb",
   "language": "python",
   "name": "venv_send_to_pb"
  },
  "language_info": {
   "codemirror_mode": {
    "name": "ipython",
    "version": 3
   },
   "file_extension": ".py",
   "mimetype": "text/x-python",
   "name": "python",
   "nbconvert_exporter": "python",
   "pygments_lexer": "ipython3",
   "version": "3.7.7"
  }
 },
 "nbformat": 4,
 "nbformat_minor": 4
}
