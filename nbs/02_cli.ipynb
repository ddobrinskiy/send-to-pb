{
 "cells": [
  {
   "cell_type": "code",
   "execution_count": null,
   "metadata": {},
   "outputs": [],
   "source": [
    "# default_exp cli "
   ]
  },
  {
   "cell_type": "code",
   "execution_count": null,
   "metadata": {},
   "outputs": [],
   "source": [
    "# export\n",
    "import pathlib\n",
    "import click\n",
    "\n",
    "from send_to_pb.core import Target\n",
    "from send_to_pb.mail import Emailer"
   ]
  },
  {
   "cell_type": "code",
   "execution_count": null,
   "metadata": {},
   "outputs": [],
   "source": [
    "# export\n",
    "\n",
    "@click.command()\n",
    "@click.argument('location', nargs=1)\n",
    "@click.option('--send-mail/--no-mail', default=True, help=\"send email or not?\")\n",
    "@click.option('--pocketbook/--myself', default=True, help=\"send to myself or pocketbook?\")\n",
    "def send_to_pocketbook(location,  send_mail, pocketbook):\n",
    "    \"\"\"Send file from location to pocketbook\"\"\"\n",
    "    if pocketbook:\n",
    "        receiver = \"ddzlob@pbsync.com\"\n",
    "    else:\n",
    "        receiver = \"david.dobrinskiy@gmail.com\"\n",
    "\n",
    "    t = Target(location)\n",
    "    t.fetch_target()\n",
    "\n",
    "    if send_mail:\n",
    "        Emailer().send_file(to=receiver,\n",
    "                            file=t.file_path,\n",
    "                     )\n",
    "\n"
   ]
  }
 ],
 "metadata": {
  "kernelspec": {
   "display_name": "Python 3",
   "language": "python",
   "name": "python3"
  }
 },
 "nbformat": 4,
 "nbformat_minor": 4
}
