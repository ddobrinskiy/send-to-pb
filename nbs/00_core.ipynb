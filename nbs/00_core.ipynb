{
 "cells": [
  {
   "cell_type": "code",
   "execution_count": null,
   "metadata": {},
   "outputs": [],
   "source": [
    "# default_exp core"
   ]
  },
  {
   "cell_type": "markdown",
   "metadata": {},
   "source": [
    "# send_to_pb\n",
    "\n",
    "> use `send_to_pb <TARGET>` from your terminal"
   ]
  },
  {
   "cell_type": "code",
   "execution_count": null,
   "metadata": {},
   "outputs": [],
   "source": [
    "#export\n",
    "\n",
    "from urllib.parse import urlparse \n",
    "import pathlib\n",
    "\n",
    "from bs4 import BeautifulSoup\n",
    "from tqdm import tqdm\n",
    "import fastcore.test\n",
    "import fastcore.utils\n",
    "import requests\n",
    "\n",
    "from send_to_pb import utils as u"
   ]
  },
  {
   "cell_type": "code",
   "execution_count": null,
   "metadata": {},
   "outputs": [],
   "source": [
    "#export\n",
    "def get_arxiv_pdf_url(url) -> (str, str):\n",
    "    url = url.strip('/')\n",
    "    if urlparse(url).path.startswith(\"/pdf/\"):\n",
    "        u.logger.debug(\"Direct pdf link to ARXIV detected, replatincg to /abs/\")\n",
    "        url = url.replace(\"/pdf/\", \"/abs/\")\n",
    "\n",
    "    if urlparse(url).path.startswith(\"/abs/\"):\n",
    "        u.logger.debug(f\"Getting ARXIV link to parse {url}\")\n",
    "        content = fastcore.utils.urlread(url)\n",
    "        u.logger.debug(\"OK\")\n",
    "        soup = BeautifulSoup(content, 'html.parser')\n",
    "        u.logger.debug(f\"Parsing {url}\")\n",
    "\n",
    "        title = soup.find('title').contents[0]\n",
    "        u.logger.debug(f\"Title found: {title}\")\n",
    "\n",
    "        href = soup.find(\"a\", class_=\"abs-button download-pdf\").get('href')\n",
    "        u.logger.debug(f\"href to pdf found: {href}\")\n",
    "\n",
    "        scheme, netloc =  urlparse(url).scheme, urlparse(url).netloc\n",
    "        url_pdf = f\"{scheme}://{netloc}{href}\"\n",
    "        return url_pdf, f\"{title}.pdf\"\n",
    "    else:\n",
    "        u.logger.error(f\"This line should never run, check your url: {url}\")\n",
    "        raise Exception(\"This line should never run, check your url\")"
   ]
  },
  {
   "cell_type": "code",
   "execution_count": null,
   "metadata": {},
   "outputs": [],
   "source": [
    "#export\n",
    "def download_file(url:str, dest:pathlib.Path):\n",
    "    u.logger.debug(f\"downloading to {dest}\")\n",
    "    r = requests.get(url, stream=True, allow_redirects=True)\n",
    "    total_size = int(r.headers.get('content-length'))\n",
    "    initial_pos = 0\n",
    "    with open(dest, 'wb') as f: \n",
    "        with tqdm(total=total_size,\n",
    "                  unit='iB',\n",
    "                  unit_scale=True,\n",
    "                  desc=dest.name,\n",
    "                  initial=initial_pos,\n",
    "                  ) as pbar:\n",
    "            for ch in r.iter_content(chunk_size=1024):\n",
    "                if ch:\n",
    "                    f.write(ch) \n",
    "                    pbar.update(len(ch))"
   ]
  },
  {
   "cell_type": "code",
   "execution_count": null,
   "metadata": {},
   "outputs": [],
   "source": [
    "#export\n",
    "def is_url(s):\n",
    "    result = urlparse(s)\n",
    "    if result.scheme:\n",
    "        return True\n",
    "    else:\n",
    "        return False"
   ]
  },
  {
   "cell_type": "code",
   "execution_count": null,
   "metadata": {},
   "outputs": [],
   "source": [
    "#export\n",
    "\n",
    "from enum import Enum\n",
    "\n",
    "class TargetType(Enum):\n",
    "    LOCAL_FILE = 'LOCAL_FILE'\n",
    "    LOCAL_DIR = 'LOCAL_DIR'\n",
    "    URL_ARXIV = 'URL_ARXIV'\n",
    "    URL_OTHER = 'URL_OTHER'\n",
    "    NOT_FOUND = 'NOT_FOUND'\n",
    "\n",
    "\n",
    "class Target:\n",
    "    def __init__(self, input_str:str):\n",
    "        self.input = input_str\n",
    "        self.type = self.get_type(input_str)\n",
    "        \n",
    "    def get_type(self, s:str) -> TargetType:\n",
    "        if is_url(s):\n",
    "            if urlparse(s).netloc == 'arxiv.org':\n",
    "                return TargetType.URL_ARXIV\n",
    "            else:\n",
    "                return TargetType.URL_OTHER\n",
    "\n",
    "        else:\n",
    "            if pathlib.Path(s).is_file():\n",
    "                return TargetType.LOCAL_FILE\n",
    "            elif pathlib.Path(s).is_dir():\n",
    "                return TargetType.LOCAL_DIR\n",
    "            else:\n",
    "                u.logger.warning(f\"Can't find {s}\")\n",
    "                return TargetType.NOT_FOUND\n",
    "    \n",
    "    def fetch_target(self):\n",
    "        if self.type == TargetType.URL_ARXIV:\n",
    "            url_pdf, title = get_arxiv_pdf_url(self.input)\n",
    "\n",
    "            dest_dir = pathlib.Path(\"~/Downloads/send_to_pb\").expanduser()\n",
    "            if not dest_dir.exists():\n",
    "                u.logger.info(f\"Creating target directory: {dest_dir}\")\n",
    "                dest_dir.mkdir(exist_ok=True)\n",
    "\n",
    "            dest = dest_dir/title\n",
    "            if dest.is_file():\n",
    "                # file exists already\n",
    "                u.logger.info(f\"File already exists, skipping download {dest}\")\n",
    "            else:\n",
    "                # file does not exist, let's download it\n",
    "                download_file(url_pdf, dest)\n",
    "\n",
    "            self.file_path = dest\n",
    "            return self.file_path\n",
    "        \n",
    "        elif self.type == TargetType.LOCAL_FILE:\n",
    "            self.file_path = pathlib.Path(self.input)\n",
    "            u.logger.info(f\"Will send a local file from {self.file_path}\")\n",
    "            return self.file_path\n",
    "            \n",
    "        else:\n",
    "            raise NotImplementedError(f\"{self.type.name} targets\")\n",
    "        \n",
    "    __repr__ = fastcore.utils.basic_repr('input, type')\n",
    "    "
   ]
  },
  {
   "cell_type": "code",
   "execution_count": null,
   "metadata": {},
   "outputs": [],
   "source": [
    "input_str = 'https://arxiv.org/abs/2010.05365'\n",
    "t = Target(input_str)"
   ]
  },
  {
   "cell_type": "code",
   "execution_count": null,
   "metadata": {},
   "outputs": [],
   "source": [
    "def test_func(f, args, want):\n",
    "    if isinstance(args, (list, tuple)):\n",
    "        fastcore.test.test_eq(f(*args), want)\n",
    "    else:\n",
    "        fastcore.test.test_eq(f(args), want)"
   ]
  },
  {
   "cell_type": "code",
   "execution_count": null,
   "metadata": {},
   "outputs": [],
   "source": [
    "test_func(is_url, \"actually not a url\", False)\n",
    "test_func(is_url, \"test_folder\", False)\n",
    "test_func(is_url, \"test_folder/test_file.txt\", False)\n",
    "test_func(is_url, \"http://google.com\", True)\n",
    "test_func(is_url, \"https://arxiv.org/abs/2010.05365\", True)"
   ]
  },
  {
   "cell_type": "code",
   "execution_count": null,
   "metadata": {},
   "outputs": [
    {
     "name": "stderr",
     "output_type": "stream",
     "text": [
      "2020-10-16 15:38:49.654 | WARNING  | __main__:get_type:33 - Can't find test_folder\n"
     ]
    },
    {
     "ename": "AssertionError",
     "evalue": "==:\nTargetType.NOT_FOUND\nTargetType.LOCAL_DIR",
     "output_type": "error",
     "traceback": [
      "\u001b[0;31m---------------------------------------------------------------------------\u001b[0m",
      "\u001b[0;31mAssertionError\u001b[0m                            Traceback (most recent call last)",
      "\u001b[0;32m<ipython-input-10-215ab3abfc51>\u001b[0m in \u001b[0;36m<module>\u001b[0;34m\u001b[0m\n\u001b[1;32m      1\u001b[0m \u001b[0mtest_func\u001b[0m\u001b[0;34m(\u001b[0m\u001b[0mt\u001b[0m\u001b[0;34m.\u001b[0m\u001b[0mget_type\u001b[0m\u001b[0;34m,\u001b[0m \u001b[0;34m\"http://google.com\"\u001b[0m\u001b[0;34m,\u001b[0m \u001b[0mTargetType\u001b[0m\u001b[0;34m.\u001b[0m\u001b[0mURL_OTHER\u001b[0m\u001b[0;34m)\u001b[0m\u001b[0;34m\u001b[0m\u001b[0;34m\u001b[0m\u001b[0m\n\u001b[1;32m      2\u001b[0m \u001b[0mtest_func\u001b[0m\u001b[0;34m(\u001b[0m\u001b[0mt\u001b[0m\u001b[0;34m.\u001b[0m\u001b[0mget_type\u001b[0m\u001b[0;34m,\u001b[0m \u001b[0;34m\"https://arxiv.org/abs/2010.05365\"\u001b[0m\u001b[0;34m,\u001b[0m \u001b[0mTargetType\u001b[0m\u001b[0;34m.\u001b[0m\u001b[0mURL_ARXIV\u001b[0m\u001b[0;34m)\u001b[0m\u001b[0;34m\u001b[0m\u001b[0;34m\u001b[0m\u001b[0m\n\u001b[0;32m----> 3\u001b[0;31m \u001b[0mtest_func\u001b[0m\u001b[0;34m(\u001b[0m\u001b[0mt\u001b[0m\u001b[0;34m.\u001b[0m\u001b[0mget_type\u001b[0m\u001b[0;34m,\u001b[0m \u001b[0;34m\"test_folder\"\u001b[0m\u001b[0;34m,\u001b[0m \u001b[0mTargetType\u001b[0m\u001b[0;34m.\u001b[0m\u001b[0mLOCAL_DIR\u001b[0m\u001b[0;34m)\u001b[0m\u001b[0;34m\u001b[0m\u001b[0;34m\u001b[0m\u001b[0m\n\u001b[0m\u001b[1;32m      4\u001b[0m \u001b[0mtest_func\u001b[0m\u001b[0;34m(\u001b[0m\u001b[0mt\u001b[0m\u001b[0;34m.\u001b[0m\u001b[0mget_type\u001b[0m\u001b[0;34m,\u001b[0m \u001b[0;34m\"test_folder/test_file.txt\"\u001b[0m\u001b[0;34m,\u001b[0m \u001b[0mTargetType\u001b[0m\u001b[0;34m.\u001b[0m\u001b[0mLOCAL_FILE\u001b[0m\u001b[0;34m)\u001b[0m\u001b[0;34m\u001b[0m\u001b[0;34m\u001b[0m\u001b[0m\n\u001b[1;32m      5\u001b[0m \u001b[0mtest_func\u001b[0m\u001b[0;34m(\u001b[0m\u001b[0mt\u001b[0m\u001b[0;34m.\u001b[0m\u001b[0mget_type\u001b[0m\u001b[0;34m,\u001b[0m \u001b[0;34m\"test_folder/this_file_does_not_exist.txt\"\u001b[0m\u001b[0;34m,\u001b[0m \u001b[0mTargetType\u001b[0m\u001b[0;34m.\u001b[0m\u001b[0mNOT_FOUND\u001b[0m\u001b[0;34m)\u001b[0m\u001b[0;34m\u001b[0m\u001b[0;34m\u001b[0m\u001b[0m\n",
      "\u001b[0;32m<ipython-input-8-14c899d198ce>\u001b[0m in \u001b[0;36mtest_func\u001b[0;34m(f, args, want)\u001b[0m\n\u001b[1;32m      3\u001b[0m         \u001b[0mfastcore\u001b[0m\u001b[0;34m.\u001b[0m\u001b[0mtest\u001b[0m\u001b[0;34m.\u001b[0m\u001b[0mtest_eq\u001b[0m\u001b[0;34m(\u001b[0m\u001b[0mf\u001b[0m\u001b[0;34m(\u001b[0m\u001b[0;34m*\u001b[0m\u001b[0margs\u001b[0m\u001b[0;34m)\u001b[0m\u001b[0;34m,\u001b[0m \u001b[0mwant\u001b[0m\u001b[0;34m)\u001b[0m\u001b[0;34m\u001b[0m\u001b[0;34m\u001b[0m\u001b[0m\n\u001b[1;32m      4\u001b[0m     \u001b[0;32melse\u001b[0m\u001b[0;34m:\u001b[0m\u001b[0;34m\u001b[0m\u001b[0;34m\u001b[0m\u001b[0m\n\u001b[0;32m----> 5\u001b[0;31m         \u001b[0mfastcore\u001b[0m\u001b[0;34m.\u001b[0m\u001b[0mtest\u001b[0m\u001b[0;34m.\u001b[0m\u001b[0mtest_eq\u001b[0m\u001b[0;34m(\u001b[0m\u001b[0mf\u001b[0m\u001b[0;34m(\u001b[0m\u001b[0margs\u001b[0m\u001b[0;34m)\u001b[0m\u001b[0;34m,\u001b[0m \u001b[0mwant\u001b[0m\u001b[0;34m)\u001b[0m\u001b[0;34m\u001b[0m\u001b[0;34m\u001b[0m\u001b[0m\n\u001b[0m\u001b[1;32m      6\u001b[0m \u001b[0;34m\u001b[0m\u001b[0m\n",
      "\u001b[0;32m~/.local/share/virtualenvs/send-to-pb-GIqnHweh/lib/python3.7/site-packages/fastcore/test.py\u001b[0m in \u001b[0;36mtest_eq\u001b[0;34m(a, b)\u001b[0m\n\u001b[1;32m     32\u001b[0m \u001b[0;32mdef\u001b[0m \u001b[0mtest_eq\u001b[0m\u001b[0;34m(\u001b[0m\u001b[0ma\u001b[0m\u001b[0;34m,\u001b[0m\u001b[0mb\u001b[0m\u001b[0;34m)\u001b[0m\u001b[0;34m:\u001b[0m\u001b[0;34m\u001b[0m\u001b[0;34m\u001b[0m\u001b[0m\n\u001b[1;32m     33\u001b[0m     \u001b[0;34m\"`test` that `a==b`\"\u001b[0m\u001b[0;34m\u001b[0m\u001b[0;34m\u001b[0m\u001b[0m\n\u001b[0;32m---> 34\u001b[0;31m     \u001b[0mtest\u001b[0m\u001b[0;34m(\u001b[0m\u001b[0ma\u001b[0m\u001b[0;34m,\u001b[0m\u001b[0mb\u001b[0m\u001b[0;34m,\u001b[0m\u001b[0mequals\u001b[0m\u001b[0;34m,\u001b[0m \u001b[0;34m'=='\u001b[0m\u001b[0;34m)\u001b[0m\u001b[0;34m\u001b[0m\u001b[0;34m\u001b[0m\u001b[0m\n\u001b[0m\u001b[1;32m     35\u001b[0m \u001b[0;34m\u001b[0m\u001b[0m\n\u001b[1;32m     36\u001b[0m \u001b[0;31m# Cell\u001b[0m\u001b[0;34m\u001b[0m\u001b[0;34m\u001b[0m\u001b[0;34m\u001b[0m\u001b[0m\n",
      "\u001b[0;32m~/.local/share/virtualenvs/send-to-pb-GIqnHweh/lib/python3.7/site-packages/fastcore/test.py\u001b[0m in \u001b[0;36mtest\u001b[0;34m(a, b, cmp, cname)\u001b[0m\n\u001b[1;32m     22\u001b[0m     \u001b[0;34m\"`assert` that `cmp(a,b)`; display inputs and `cname or cmp.__name__` if it fails\"\u001b[0m\u001b[0;34m\u001b[0m\u001b[0;34m\u001b[0m\u001b[0m\n\u001b[1;32m     23\u001b[0m     \u001b[0;32mif\u001b[0m \u001b[0mcname\u001b[0m \u001b[0;32mis\u001b[0m \u001b[0;32mNone\u001b[0m\u001b[0;34m:\u001b[0m \u001b[0mcname\u001b[0m\u001b[0;34m=\u001b[0m\u001b[0mcmp\u001b[0m\u001b[0;34m.\u001b[0m\u001b[0m__name__\u001b[0m\u001b[0;34m\u001b[0m\u001b[0;34m\u001b[0m\u001b[0m\n\u001b[0;32m---> 24\u001b[0;31m     \u001b[0;32massert\u001b[0m \u001b[0mcmp\u001b[0m\u001b[0;34m(\u001b[0m\u001b[0ma\u001b[0m\u001b[0;34m,\u001b[0m\u001b[0mb\u001b[0m\u001b[0;34m)\u001b[0m\u001b[0;34m,\u001b[0m\u001b[0;34mf\"{cname}:\\n{a}\\n{b}\"\u001b[0m\u001b[0;34m\u001b[0m\u001b[0;34m\u001b[0m\u001b[0m\n\u001b[0m\u001b[1;32m     25\u001b[0m \u001b[0;34m\u001b[0m\u001b[0m\n\u001b[1;32m     26\u001b[0m \u001b[0;31m# Cell\u001b[0m\u001b[0;34m\u001b[0m\u001b[0;34m\u001b[0m\u001b[0;34m\u001b[0m\u001b[0m\n",
      "\u001b[0;31mAssertionError\u001b[0m: ==:\nTargetType.NOT_FOUND\nTargetType.LOCAL_DIR"
     ]
    }
   ],
   "source": [
    "test_func(t.get_type, \"http://google.com\", TargetType.URL_OTHER)\n",
    "test_func(t.get_type, \"https://arxiv.org/abs/2010.05365\", TargetType.URL_ARXIV)\n",
    "test_func(t.get_type, \"test_folder\", TargetType.LOCAL_DIR)\n",
    "test_func(t.get_type, \"test_folder/test_file.txt\", TargetType.LOCAL_FILE)\n",
    "test_func(t.get_type, \"test_folder/this_file_does_not_exist.txt\", TargetType.NOT_FOUND)\n",
    "test_func(t.get_type, \"not a file at all\", TargetType.NOT_FOUND)"
   ]
  },
  {
   "cell_type": "code",
   "execution_count": null,
   "metadata": {},
   "outputs": [
    {
     "name": "stderr",
     "output_type": "stream",
     "text": [
      "2020-10-16 15:38:58.954 | DEBUG    | __main__:get_arxiv_pdf_url:9 - Getting ARXIV link to parse https://arxiv.org/abs/2010.05365\n",
      "2020-10-16 15:39:00.398 | DEBUG    | __main__:get_arxiv_pdf_url:11 - OK\n",
      "2020-10-16 15:39:00.449 | DEBUG    | __main__:get_arxiv_pdf_url:13 - Parsing https://arxiv.org/abs/2010.05365\n",
      "2020-10-16 15:39:00.449 | DEBUG    | __main__:get_arxiv_pdf_url:16 - Title found: [2010.05365] ArXiving Before Submission Helps Everyone\n",
      "2020-10-16 15:39:00.450 | DEBUG    | __main__:get_arxiv_pdf_url:19 - href to pdf found: /pdf/2010.05365\n",
      "2020-10-16 15:39:00.458 | DEBUG    | __main__:download_file:3 - downloading to /home/david/Downloads/send_to_pb/[2010.05365] ArXiving Before Submission Helps Everyone.pdf\n",
      "[2010.05365] ArXiving Before Submission Helps Everyone.pdf: 100%|██████████| 266k/266k [00:02<00:00, 107kiB/s]  \n"
     ]
    },
    {
     "data": {
      "text/plain": [
       "Path('/home/david/Downloads/send_to_pb/[2010.05365] ArXiving Before Submission Helps Everyone.pdf')"
      ]
     },
     "execution_count": null,
     "metadata": {},
     "output_type": "execute_result"
    }
   ],
   "source": [
    "# integration\n",
    "# Actually test a download\n",
    "\n",
    "input_str = 'https://arxiv.org/abs/2010.05365'\n",
    "t = Target(input_str)\n",
    "fetched_path = t.fetch_target()\n",
    "fetched_path"
   ]
  },
  {
   "cell_type": "code",
   "execution_count": null,
   "metadata": {},
   "outputs": [
    {
     "name": "stderr",
     "output_type": "stream",
     "text": [
      "2020-10-16 15:39:04.468 | DEBUG    | __main__:get_arxiv_pdf_url:5 - Direct pdf link to ARXIV detected, replatincg to /abs/\n",
      "2020-10-16 15:39:04.469 | DEBUG    | __main__:get_arxiv_pdf_url:9 - Getting ARXIV link to parse https://arxiv.org/abs/2010.05365\n",
      "2020-10-16 15:39:09.642 | DEBUG    | __main__:get_arxiv_pdf_url:11 - OK\n",
      "2020-10-16 15:39:09.689 | DEBUG    | __main__:get_arxiv_pdf_url:13 - Parsing https://arxiv.org/abs/2010.05365\n",
      "2020-10-16 15:39:09.689 | DEBUG    | __main__:get_arxiv_pdf_url:16 - Title found: [2010.05365] ArXiving Before Submission Helps Everyone\n",
      "2020-10-16 15:39:09.690 | DEBUG    | __main__:get_arxiv_pdf_url:19 - href to pdf found: /pdf/2010.05365\n",
      "2020-10-16 15:39:09.691 | DEBUG    | __main__:download_file:3 - downloading to /home/david/Downloads/send_to_pb/[2010.05365] ArXiving Before Submission Helps Everyone.pdf\n",
      "[2010.05365] ArXiving Before Submission Helps Everyone.pdf: 100%|██████████| 266k/266k [00:03<00:00, 75.8kiB/s] \n"
     ]
    },
    {
     "data": {
      "text/plain": [
       "Path('/home/david/Downloads/send_to_pb/[2010.05365] ArXiving Before Submission Helps Everyone.pdf')"
      ]
     },
     "execution_count": null,
     "metadata": {},
     "output_type": "execute_result"
    }
   ],
   "source": [
    "# integration\n",
    "# Actually test a download\n",
    "\n",
    "input_str = 'https://arxiv.org/pdf/2010.05365'\n",
    "Target(input_str).fetch_target()\n"
   ]
  },
  {
   "cell_type": "code",
   "execution_count": null,
   "metadata": {},
   "outputs": [],
   "source": []
  },
  {
   "cell_type": "code",
   "execution_count": null,
   "metadata": {},
   "outputs": [],
   "source": []
  }
 ],
 "metadata": {
  "kernelspec": {
   "display_name": "py3k",
   "language": "python",
   "name": "py3k"
  }
 },
 "nbformat": 4,
 "nbformat_minor": 4
}
