{
 "cells": [
  {
   "cell_type": "code",
   "execution_count": null,
   "metadata": {},
   "outputs": [],
   "source": [
    "# default_exp core"
   ]
  },
  {
   "cell_type": "markdown",
   "metadata": {},
   "source": [
    "# module name here\n",
    "\n",
    "> API details."
   ]
  },
  {
   "cell_type": "code",
   "execution_count": null,
   "metadata": {},
   "outputs": [],
   "source": [
    "#export\n",
    "\n",
    "from urllib.parse import urlparse \n",
    "import pathlib\n",
    "\n",
    "from bs4 import BeautifulSoup\n",
    "from tqdm import tqdm\n",
    "import fastcore.test\n",
    "import fastcore.utils\n",
    "import requests\n",
    "\n",
    "from send_to_pb import utils as u"
   ]
  },
  {
   "cell_type": "code",
   "execution_count": null,
   "metadata": {},
   "outputs": [],
   "source": [
    "#export\n",
    "def get_arxiv_pdf_url(url) -> (str, str):\n",
    "    url = url.strip('/')\n",
    "    if urlparse(url).path.startswith(\"/pdf/\"):\n",
    "        title = url.split('/')[-1]\n",
    "        if not title.endswith('.pdf'):\n",
    "            title += '.pdf'\n",
    "        return url, title\n",
    "    elif urlparse(url).path.startswith(\"/abs/\"):\n",
    "        u.logger.debug(f\"Getting ARXIV link to parse {url}\")\n",
    "        content = fastcore.utils.urlread(url)\n",
    "        u.logger.debug(\"OK\")\n",
    "        soup = BeautifulSoup(content, 'html.parser')\n",
    "        u.logger.debug(f\"Parsing {url}\")\n",
    "\n",
    "        title = soup.find('title').contents[0]\n",
    "        u.logger.debug(f\"Title found: {title}\")\n",
    "\n",
    "        href = soup.find(\"a\", class_=\"abs-button download-pdf\").get('href')\n",
    "        u.logger.debug(f\"href to pdf found: {href}\")\n",
    "\n",
    "        scheme, netloc =  urlparse(url).scheme, urlparse(url).netloc\n",
    "        url_pdf = f\"{scheme}://{netloc}{href}\"\n",
    "        return url_pdf, f\"{title}.pdf\"\n",
    "    else:\n",
    "        u.logger.error(f\"This line should never run, check your url: {url}\")\n",
    "        raise Exception(\"This line should never run, check your url\")"
   ]
  },
  {
   "cell_type": "code",
   "execution_count": null,
   "metadata": {},
   "outputs": [],
   "source": [
    "#export\n",
    "def download_file(url:str, dest:pathlib.Path):\n",
    "    u.logger.debug(f\"downloading to {dest}\")\n",
    "    r = requests.get(url, stream=True, allow_redirects=True)\n",
    "    total_size = int(r.headers.get('content-length'))\n",
    "    initial_pos = 0\n",
    "    with open(dest, 'wb') as f: \n",
    "        with tqdm(total=total_size,\n",
    "                  unit='iB',\n",
    "                  unit_scale=True,\n",
    "                  desc=dest.name,\n",
    "                  initial=initial_pos,\n",
    "                  ) as pbar:\n",
    "            for ch in r.iter_content(chunk_size=1024):\n",
    "                if ch:\n",
    "                    f.write(ch) \n",
    "                    pbar.update(len(ch))"
   ]
  },
  {
   "cell_type": "code",
   "execution_count": null,
   "metadata": {},
   "outputs": [],
   "source": [
    "#export\n",
    "def is_url(s):\n",
    "    result = urlparse(s)\n",
    "    if result.scheme:\n",
    "        return True\n",
    "    else:\n",
    "        return False"
   ]
  },
  {
   "cell_type": "code",
   "execution_count": null,
   "metadata": {},
   "outputs": [],
   "source": [
    "#export\n",
    "\n",
    "from enum import Enum\n",
    "\n",
    "class TargetType(Enum):\n",
    "    LOCAL_FILE = 'LOCAL_FILE'\n",
    "    LOCAL_DIR = 'LOCAL_DIR'\n",
    "    URL_ARXIV = 'URL_ARXIV'\n",
    "    URL_OTHER = 'URL_OTHER'\n",
    "    NOT_FOUND = 'NOT_FOUND'\n",
    "\n",
    "\n",
    "class Target:\n",
    "    def __init__(self, input_str:str):\n",
    "        self.input = input_str\n",
    "        self.type = self.get_type(input_str)\n",
    "        \n",
    "        self.validate()\n",
    "    \n",
    "    def get_type(self, s:str) -> TargetType:\n",
    "        if is_url(s):\n",
    "            if urlparse(s).netloc == 'arxiv.org':\n",
    "                return TargetType.URL_ARXIV\n",
    "            else:\n",
    "                return TargetType.URL_OTHER\n",
    "\n",
    "        else:\n",
    "            if pathlib.Path(s).is_file():\n",
    "                return TargetType.LOCAL_FILE\n",
    "            elif pathlib.Path(s).is_dir():\n",
    "                return TargetType.LOCAL_DIR\n",
    "            else:\n",
    "                return TargetType.NOT_FOUND\n",
    "    \n",
    "    def validate(self):\n",
    "        if self.type not in [TargetType.URL_ARXIV]:\n",
    "            raise NotImplementedError(f\"{self.type.name} targets\")\n",
    "            \n",
    "    def fetch_target(self):\n",
    "        if self.type == TargetType.URL_ARXIV:\n",
    "            url_pdf, title = get_arxiv_pdf_url(self.input)\n",
    "\n",
    "            dest_dir = pathlib.Path(\"~/Downloads/send_to_pb\").expanduser()\n",
    "            if not dest_dir.exists():\n",
    "                u.logger.info(f\"Creating target directory: {dest_dir}\")\n",
    "                dest_dir.mkdir(exist_ok=True)\n",
    "\n",
    "            dest = dest_dir/title\n",
    "            download_file(url_pdf, dest)\n",
    "            self.fetched_path = dest\n",
    "            return dest\n",
    "            \n",
    "        else:\n",
    "            raise NotImplementedError(f\"{self.type.name} targets\")\n",
    "        \n",
    "    __repr__ = fastcore.utils.basic_repr('input, type')\n",
    "    "
   ]
  },
  {
   "cell_type": "code",
   "execution_count": null,
   "metadata": {},
   "outputs": [
    {
     "name": "stderr",
     "output_type": "stream",
     "text": [
      "2020-10-15 17:41:40.251 | DEBUG    | __main__:get_arxiv_pdf_url:9 - Getting ARXIV link to parse https://arxiv.org/abs/2010.05365\n",
      "2020-10-15 17:41:42.248 | DEBUG    | __main__:get_arxiv_pdf_url:11 - OK\n",
      "2020-10-15 17:41:42.301 | DEBUG    | __main__:get_arxiv_pdf_url:13 - Parsing https://arxiv.org/abs/2010.05365\n",
      "2020-10-15 17:41:42.301 | DEBUG    | __main__:get_arxiv_pdf_url:16 - Title found: [2010.05365] ArXiving Before Submission Helps Everyone\n",
      "2020-10-15 17:41:42.302 | DEBUG    | __main__:get_arxiv_pdf_url:19 - href to pdf found: /pdf/2010.05365\n",
      "2020-10-15 17:41:42.303 | DEBUG    | __main__:download_file:2 - downloading to /home/david/Downloads/send_to_pb/[2010.05365] ArXiving Before Submission Helps Everyone.pdf\n",
      "[2010.05365] ArXiving Before Submission Helps Everyone.pdf: 100%|██████████| 266k/266k [00:03<00:00, 87.6kiB/s] \n"
     ]
    }
   ],
   "source": [
    "# slow\n",
    "input_str = 'https://arxiv.org/abs/2010.05365'\n",
    "input_str\n",
    "\n",
    "t = Target(input_str)\n",
    "fetched_path = t.fetch_target()\n",
    "fetched_path"
   ]
  },
  {
   "cell_type": "code",
   "execution_count": null,
   "metadata": {},
   "outputs": [],
   "source": [
    "def test_func(f, args, want):\n",
    "    if isinstance(args, (list, tuple)):\n",
    "        fastcore.test.test_eq(f(*args), want)\n",
    "    else:\n",
    "        fastcore.test.test_eq(f(args), want)"
   ]
  },
  {
   "cell_type": "code",
   "execution_count": null,
   "metadata": {},
   "outputs": [],
   "source": [
    "test_func(is_url, \"actually not a url\", False)\n",
    "test_func(is_url, \"test_folder\", False)\n",
    "test_func(is_url, \"test_folder/test_file.txt\", False)\n",
    "test_func(is_url, \"http://google.com\", True)\n",
    "test_func(is_url, \"https://arxiv.org/abs/2010.05365\", True)"
   ]
  },
  {
   "cell_type": "code",
   "execution_count": null,
   "metadata": {},
   "outputs": [],
   "source": [
    "test_func(t.get_type, \"http://google.com\", TargetType.URL_OTHER)\n",
    "test_func(t.get_type, \"https://arxiv.org/abs/2010.05365\", TargetType.URL_ARXIV)\n",
    "test_func(t.get_type, \"test_folder\", TargetType.LOCAL_DIR)\n",
    "test_func(t.get_type, \"test_folder/test_file.txt\", TargetType.LOCAL_FILE)\n",
    "test_func(t.get_type, \"test_folder/this_file_does_not_exist.txt\", TargetType.NOT_FOUND)\n",
    "test_func(t.get_type, \"not a file at all\", TargetType.NOT_FOUND)"
   ]
  },
  {
   "cell_type": "code",
   "execution_count": null,
   "metadata": {},
   "outputs": [],
   "source": []
  },
  {
   "cell_type": "code",
   "execution_count": null,
   "metadata": {},
   "outputs": [],
   "source": []
  },
  {
   "cell_type": "code",
   "execution_count": null,
   "metadata": {},
   "outputs": [],
   "source": []
  }
 ],
 "metadata": {
  "kernelspec": {
   "display_name": "venv_send_to_pb",
   "language": "python",
   "name": "venv_send_to_pb"
  }
 },
 "nbformat": 4,
 "nbformat_minor": 4
}
