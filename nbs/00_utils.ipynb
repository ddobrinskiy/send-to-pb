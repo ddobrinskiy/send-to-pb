{
 "cells": [
  {
   "cell_type": "code",
   "execution_count": null,
   "metadata": {},
   "outputs": [],
   "source": [
    "#default_exp utils"
   ]
  },
  {
   "cell_type": "code",
   "execution_count": null,
   "metadata": {},
   "outputs": [
    {
     "data": {
      "text/plain": [
       "2"
      ]
     },
     "execution_count": null,
     "metadata": {},
     "output_type": "execute_result"
    }
   ],
   "source": [
    "# export\n",
    "import sys\n",
    "from loguru import logger \n",
    "logger.remove()\n",
    "# logger.add('../logs/logs.txt', level=\"DEBUG\")\n",
    "logger.add(sys.stderr,enqueue=True, level=\"DEBUG\")\n",
    "# logger.add(sys.stderr,enqueue=True, level=\"INFO\")"
   ]
  },
  {
   "cell_type": "code",
   "execution_count": null,
   "metadata": {},
   "outputs": [],
   "source": []
  }
 ],
 "metadata": {
  "kernelspec": {
   "display_name": "venv_capacity",
   "language": "python",
   "name": "venv_capacity"
  }
 },
 "nbformat": 4,
 "nbformat_minor": 4
}
