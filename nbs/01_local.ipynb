{
 "cells": [
  {
   "cell_type": "code",
   "execution_count": null,
   "metadata": {},
   "outputs": [],
   "source": []
  }
 ],
 "metadata": {
  "kernelspec": {
   "display_name": "venv_send_to_pb",
   "language": "python",
   "name": "venv_send_to_pb"
  }
 },
 "nbformat": 4,
 "nbformat_minor": 4
}
